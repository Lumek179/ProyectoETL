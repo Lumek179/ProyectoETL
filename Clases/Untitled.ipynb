{
 "cells": [
  {
   "cell_type": "code",
   "execution_count": 1,
   "id": "68e71ed7-75f5-4270-9c10-764cfa43ffc3",
   "metadata": {},
   "outputs": [],
   "source": [
    "import os\n",
    "from dotenv import load_dotenv\n",
    "load_dotenv(os.path.join( os.getcwd(),'Clases/.envs'))\n",
    "import pandas as pd\n",
    "from CustomException import CustomException\n",
    "from sqlalchemy import create_engine, Table, MetaData\n",
    "from sqlalchemy.orm import sessionmaker\n",
    "from sqlalchemy.exc import SQLAlchemyError\n",
    "\n",
    "class ConnectMySQL():\n",
    "    \n",
    "    def __init__(self, host,bd,user,password,port=None):\n",
    "        self.host               =  host\n",
    "        self.bd                 =  bd\n",
    "        self.user               =  user\n",
    "        self.port               =  port\n",
    "        self.password           =  password\n",
    "        self.string_conn        =  f\"mysql+mysqlconnector://{self.user}:{self.password}@{self.host}:3310/{self.bd}\"\n",
    "        #\"mysql://{0}:{1}@{2}:{3}/{4}?charset=utf8\".format(user, password, host, port, database)\n",
    "        self.metadata = MetaData()\n",
    "        self.batch_size     = 10\n",
    "        try:\n",
    "            self.engine      =  create_engine(self.string_conn)\n",
    "        except Exception as e:\n",
    "            raise CustomException('Error al crear el engine',e)   \n",
    "\n",
    "    ## Función de conexión a MySQL\n",
    "    def create_engine(self):\n",
    "        try:\n",
    "            self.engine      =  create_engine(self.string_conn)\n",
    "            #return create_engine(self.string_conn)   # este valor si quiero hacer multiples engine lo puedo descomentar y modificar\n",
    "        except Exception as e:\n",
    "            raise CustomException('Error al conectar con la base de datos',e) \n",
    "        \n",
    "    def set_query(  self,  search_query ):\n",
    "        self.__query  =  search_query\n",
    "        \n",
    "    def get_query(self):\n",
    "        return self.__query\n",
    "    \n",
    "    def set_batch(  self,  batch_size ):\n",
    "        self.batch_size   =  batch_size\n",
    "        \n",
    "    def get_batch(self):\n",
    "        return self.batch_size \n",
    "    \n",
    "    def generar_query_insert(self,table, columns):\n",
    "        \"\"\"\n",
    "        Genera dinámicamente un query de inserción para una tabla dada y una lista de columnas.\n",
    "\n",
    "        Args:\n",
    "        - tabla: nombre de la tabla en la que se van a insertar los datos.\n",
    "        - columnas: lista de nombres de columnas en la tabla.\n",
    "\n",
    "        Returns:\n",
    "        - query: query de inserción generado dinámicamente.\n",
    "        \"\"\"\n",
    "        num_columns = len(columns)\n",
    "        columns_str = ', '.join(columns)\n",
    "        values_str = ', '.join(['%s'] * num_columns)\n",
    "        self.__query = f\"INSERT INTO {table} ({columns_str}) VALUES ({values_str})\"\n",
    "    \n",
    "    \n",
    "    def close_connect(self):  \n",
    "        try:\n",
    "            self.__conn.close()\n",
    "        except Exception as e:\n",
    "            raise CustomException('Error al cerrar la conexión con la base de datos',e)  \n",
    "  \n",
    "            \n",
    "    def extract_data(self):\n",
    "        #self.create_engine()\n",
    "        df  = pd.read_sql(self.__query , con=self.engine.connect() ) \n",
    "        return df\n",
    "    \n",
    "    def load_data(self,df, tbl_name):\n",
    "        df.to_sql(tbl_name, self.engine , if_exists='replace')\n",
    "     \n",
    "    def load_data_chemy(self,df,name_table_dest):\n",
    "        Session = sessionmaker(bind=self.engine)\n",
    "        table_dest = Table(name_table_dest, self.metadata , autoload=True, autoload_with=self.engine)\n",
    "        print(table_dest)\n",
    "        try:\n",
    "            datos = df.to_dict(orient='records')\n",
    "            # Insertar datos utilizando la sesión\n",
    "            with Session() as se:\n",
    "                se.execute(table_dest.insert(), datos)\n",
    "                se.commit()  # Confirmar la transacción\n",
    "                print(ab)\n",
    "        except SQLAlchemyError as e:\n",
    "            print(\"Error:\", e)\n",
    "            if se:\n",
    "                se.rollback()  # Revertir la transacción en caso de error  \n",
    "        except Exception as e:\n",
    "            print(\"Error:\", e)\n",
    "\n",
    "    def load_data_chemy_connect(self,df,name_table_dest):\n",
    "        table_dest = Table(name_table_dest, self.metadata , autoload=True, autoload_with=self.engine)\n",
    "        print(table_dest)\n",
    "        try:\n",
    "            datos = df.to_dict(orient='records')  \n",
    "            with self.engine.connect() as conn:\n",
    "                conn.execute(table_dest.insert(), datos)\n",
    "        except SQLAlchemyError as e:\n",
    "            conn.rollback()  # Revertir la transacción en caso de error\n",
    "            print(\"Error:\", e)\n",
    "        except Exception as e:\n",
    "            print(\"Error:\", e)\n",
    "            \n",
    "    def iterable_batch_chemy( self ):\n",
    "        while True:\n",
    "            rows = self.result.fetchmany(self.batch_size)\n",
    "            if not rows:\n",
    "                break\n",
    "            yield rows\n",
    "            \n",
    "    def extract_data_chemy(self):\n",
    "        try:\n",
    "            with self.Session() as session:\n",
    "                self.result = session.execute(self.__query)\n",
    "                column_names = list(self.result.keys())\n",
    "                for batch in self.iterable_batch_chemy():\n",
    "                    pivote = pd.DataFrame(batch,columns=column_names) \n",
    "                    yield pivote\n",
    "        except SQLAlchemyError as e:\n",
    "            print(\"Error:\", e)\n",
    "        except Exception as e:\n",
    "            print(\"Error:\", e)\n",
    "        \n",
    "        \n",
    "    def extract_data_all(self,batch_size=None):\n",
    "        \n",
    "        self.Session = sessionmaker(bind=self.engine)\n",
    "        df_list =[]\n",
    "        for pivote in self.extract_data_chemy():\n",
    "            print(pivote.shape)\n",
    "            df_list.append(pivote)  \n",
    "        return pd.concat(df_list, ignore_index=True)\n",
    "        \n",
    "            \n",
    "                    \n",
    "\n",
    "\n"
   ]
  },
  {
   "cell_type": "code",
   "execution_count": 2,
   "id": "ce357538-0129-4dbf-9327-176b33e2f836",
   "metadata": {},
   "outputs": [],
   "source": [
    "objConMysql = ConnectMySQL(\"192.168.200.6\",\"dw_qqprm\", \"root\", \"root\")"
   ]
  },
  {
   "cell_type": "code",
   "execution_count": null,
   "id": "6a544773-e2d8-4ce9-8700-9ac7892cf26c",
   "metadata": {},
   "outputs": [],
   "source": [
    "search_query=\"SELECT * FROM CATALOGO\""
   ]
  },
  {
   "cell_type": "code",
   "execution_count": null,
   "id": "c812624d-db9e-493c-8fe6-c6fb842feeca",
   "metadata": {},
   "outputs": [],
   "source": [
    "objConMysql.set_query(  search_query )"
   ]
  },
  {
   "cell_type": "code",
   "execution_count": null,
   "id": "6bce4310-fcaa-4b40-bf33-0b2fa66d74d5",
   "metadata": {},
   "outputs": [],
   "source": [
    "objConMysql.get_query( )"
   ]
  },
  {
   "cell_type": "code",
   "execution_count": null,
   "id": "3400c11f-6154-415f-83a2-bf0613e60562",
   "metadata": {},
   "outputs": [],
   "source": [
    "df_cat_tab=objConMysql.extract_data_all(1)"
   ]
  },
  {
   "cell_type": "code",
   "execution_count": null,
   "id": "e71a7792-8236-4964-a245-931637fb895c",
   "metadata": {},
   "outputs": [],
   "source": [
    "df_cat_tab"
   ]
  },
  {
   "cell_type": "code",
   "execution_count": null,
   "id": "482ab4f1-8662-45c1-a244-20b3548fb021",
   "metadata": {},
   "outputs": [],
   "source": [
    "search_query = 'SELECT * FROM CATALOGO'"
   ]
  },
  {
   "cell_type": "code",
   "execution_count": null,
   "id": "4bfd926d-1415-4c21-add2-035b0175efb4",
   "metadata": {},
   "outputs": [],
   "source": [
    "objConMysql.set_query(search_query )"
   ]
  },
  {
   "cell_type": "code",
   "execution_count": null,
   "id": "9eafb575-adf7-4bee-8883-d004faf39a5e",
   "metadata": {},
   "outputs": [],
   "source": [
    "objConMysql.get_query()"
   ]
  },
  {
   "cell_type": "code",
   "execution_count": null,
   "id": "3fd01e56-9130-40c4-9283-bd30d666f1c9",
   "metadata": {},
   "outputs": [],
   "source": [
    "df_cat= objConMysql.extract_data_all(1)"
   ]
  },
  {
   "cell_type": "code",
   "execution_count": null,
   "id": "12904914-69d1-4251-93ed-e7e422985629",
   "metadata": {},
   "outputs": [],
   "source": [
    "df_cat"
   ]
  },
  {
   "cell_type": "code",
   "execution_count": 3,
   "id": "72f1c908-9dc8-4838-8080-ac525ffc5317",
   "metadata": {},
   "outputs": [],
   "source": [
    "df ={\"CATALOGO\":['OTRO','NADA']}"
   ]
  },
  {
   "cell_type": "code",
   "execution_count": 4,
   "id": "9cc1e4f1-488d-4ed0-9322-f2ead523fb5f",
   "metadata": {},
   "outputs": [
    {
     "data": {
      "text/plain": [
       "10"
      ]
     },
     "execution_count": 4,
     "metadata": {},
     "output_type": "execute_result"
    }
   ],
   "source": [
    "\n",
    "10\t"
   ]
  },
  {
   "cell_type": "code",
   "execution_count": 5,
   "id": "f6ad9567-c5a9-496e-827d-02c4d10d3cb4",
   "metadata": {},
   "outputs": [],
   "source": [
    "df_cat = pd.DataFrame(df)"
   ]
  },
  {
   "cell_type": "code",
   "execution_count": 6,
   "id": "8959081d-80e8-4580-b403-d2863cd25bbf",
   "metadata": {},
   "outputs": [
    {
     "data": {
      "text/html": [
       "<div>\n",
       "<style scoped>\n",
       "    .dataframe tbody tr th:only-of-type {\n",
       "        vertical-align: middle;\n",
       "    }\n",
       "\n",
       "    .dataframe tbody tr th {\n",
       "        vertical-align: top;\n",
       "    }\n",
       "\n",
       "    .dataframe thead th {\n",
       "        text-align: right;\n",
       "    }\n",
       "</style>\n",
       "<table border=\"1\" class=\"dataframe\">\n",
       "  <thead>\n",
       "    <tr style=\"text-align: right;\">\n",
       "      <th></th>\n",
       "      <th>CATALOGO</th>\n",
       "    </tr>\n",
       "  </thead>\n",
       "  <tbody>\n",
       "    <tr>\n",
       "      <th>0</th>\n",
       "      <td>OTRO</td>\n",
       "    </tr>\n",
       "    <tr>\n",
       "      <th>1</th>\n",
       "      <td>NADA</td>\n",
       "    </tr>\n",
       "  </tbody>\n",
       "</table>\n",
       "</div>"
      ],
      "text/plain": [
       "  CATALOGO\n",
       "0     OTRO\n",
       "1     NADA"
      ]
     },
     "execution_count": 6,
     "metadata": {},
     "output_type": "execute_result"
    }
   ],
   "source": [
    "df_cat"
   ]
  },
  {
   "cell_type": "code",
   "execution_count": null,
   "id": "9292cde2-690a-499c-bb66-1f5aa2185acc",
   "metadata": {},
   "outputs": [],
   "source": [
    "#objConMysql.load_data_batch(df_cat,'CATALOGO')"
   ]
  },
  {
   "cell_type": "code",
   "execution_count": null,
   "id": "1c6298e1-2f6f-4ca1-8653-0f5092f9187c",
   "metadata": {},
   "outputs": [],
   "source": [
    "#objConMysql.load_data(df_cat, 'CATALOGO')"
   ]
  },
  {
   "cell_type": "code",
   "execution_count": 7,
   "id": "69a0f00e-4124-4aa6-952e-ce116b1180e3",
   "metadata": {},
   "outputs": [
    {
     "name": "stdout",
     "output_type": "stream",
     "text": [
      "CATALOGO\n",
      "Error: name 'ab' is not defined\n"
     ]
    }
   ],
   "source": [
    "objConMysql.load_data_chemy(df_cat,'CATALOGO')"
   ]
  },
  {
   "cell_type": "code",
   "execution_count": null,
   "id": "ba5ce534-b03e-4364-81c4-d73d79bcf41b",
   "metadata": {},
   "outputs": [],
   "source": []
  }
 ],
 "metadata": {
  "kernelspec": {
   "display_name": "Python 3 (ipykernel)",
   "language": "python",
   "name": "python3"
  },
  "language_info": {
   "codemirror_mode": {
    "name": "ipython",
    "version": 3
   },
   "file_extension": ".py",
   "mimetype": "text/x-python",
   "name": "python",
   "nbconvert_exporter": "python",
   "pygments_lexer": "ipython3",
   "version": "3.9.7"
  }
 },
 "nbformat": 4,
 "nbformat_minor": 5
}
